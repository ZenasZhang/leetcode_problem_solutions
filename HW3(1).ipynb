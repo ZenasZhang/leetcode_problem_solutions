{
 "cells": [
  {
   "cell_type": "code",
   "execution_count": null,
   "id": "a7ca690d-8272-4c72-af74-5337dd45b36c",
   "metadata": {},
   "outputs": [],
   "source": [
    "# Exercise 1"
   ]
  },
  {
   "cell_type": "code",
   "execution_count": 1,
   "id": "60b154c6-23c1-4904-bea0-5c4f23d27ef5",
   "metadata": {},
   "outputs": [
    {
     "name": "stdin",
     "output_type": "stream",
     "text": [
      "Enter your annual income: £ 2000\n"
     ]
    },
    {
     "name": "stdout",
     "output_type": "stream",
     "text": [
      "Annual Gross Income: £2000.00\n",
      "Annual Tax Deduction: £0.00\n",
      "Monthly Salary (after tax): £166.67\n"
     ]
    }
   ],
   "source": [
    "# 输入年收入\n",
    "annual_income = float(input(\"Enter your annual income: £\"))\n",
    "\n",
    "# 定义不同的税率门槛和税率\n",
    "no_tax_threshold = 12570\n",
    "basic_rate_threshold = 50000\n",
    "higher_rate_threshold = 125140\n",
    "\n",
    "basic_rate = 0.20\n",
    "higher_rate = 0.40\n",
    "additional_rate = 0.45\n",
    "\n",
    "# 初始化年税额\n",
    "annual_tax = 0\n",
    "\n",
    "# 计算税额\n",
    "if annual_income <= no_tax_threshold:\n",
    "    annual_tax = 0\n",
    "elif annual_income <= basic_rate_threshold:\n",
    "    annual_tax = (annual_income - no_tax_threshold) * basic_rate\n",
    "elif annual_income <= higher_rate_threshold:\n",
    "    annual_tax = (basic_rate_threshold - no_tax_threshold) * basic_rate + (annual_income - basic_rate_threshold) * higher_rate\n",
    "else:\n",
    "    annual_tax = (basic_rate_threshold - no_tax_threshold) * basic_rate + (higher_rate_threshold - basic_rate_threshold) * higher_rate + (annual_income - higher_rate_threshold) * additional_rate\n",
    "\n",
    "# 计算税后月薪\n",
    "monthly_salary = (annual_income - annual_tax) / 12\n",
    "\n",
    "# 输出结果\n",
    "print(f\"Annual Gross Income: £{annual_income:.2f}\")\n",
    "print(f\"Annual Tax Deduction: £{annual_tax:.2f}\")\n",
    "print(f\"Monthly Salary (after tax): £{monthly_salary:.2f}\")\n"
   ]
  },
  {
   "cell_type": "code",
   "execution_count": null,
   "id": "82b1f959-f7f8-4336-ac26-df98a665d40b",
   "metadata": {},
   "outputs": [],
   "source": [
    "# Exercise 1 - optional"
   ]
  },
  {
   "cell_type": "code",
   "execution_count": null,
   "id": "ae7b0d08-a08f-45a2-9297-1b907c939c19",
   "metadata": {},
   "outputs": [],
   "source": [
    "# Function to calculate the tax and monthly salary\n",
    "def calculate_tax_and_salary(annual_income):\n",
    "    # Define the income thresholds and tax rates\n",
    "    non_taxable_income = 12570\n",
    "    basic_rate_limit = 50000\n",
    "    higher_rate_limit = 125140\n",
    "    basic_rate = 0.20\n",
    "    higher_rate = 0.40\n",
    "    additional_rate = 0.45\n",
    "\n",
    "    # Initialize variables for tax deduction and tax rate type\n",
    "    tax_deduction = 0\n",
    "    tax_rate_type = \"\"\n",
    "\n",
    "    # Calculate the tax based on the given thresholds\n",
    "    if annual_income <= non_taxable_income:\n",
    "        tax_deduction = 0\n",
    "        tax_rate_type = \"not taxable\"\n",
    "    elif annual_income < basic_rate_limit:\n",
    "        tax_deduction = (annual_income - non_taxable_income) * basic_rate\n",
    "        tax_rate_type = \"Basic Rate\"\n",
    "    elif annual_income < higher_rate_limit:\n",
    "        tax_deduction = (basic_rate_limit - non_taxable_income) * basic_rate + \\\n",
    "                        (annual_income - basic_rate_limit) * higher_rate\n",
    "        tax_rate_type = \"Higher Rate\"\n",
    "    else:\n",
    "        tax_deduction = (basic_rate_limit - non_taxable_income) * basic_rate + \\\n",
    "                        (higher_rate_limit - basic_rate_limit) * higher_rate + \\\n",
    "                        (annual_income - higher_rate_limit) * additional_rate\n",
    "        tax_rate_type = \"Additional Rate\"\n",
    "\n",
    "    # Calculate the net annual income and monthly salary\n",
    "    net_annual_income = annual_income - tax_deduction\n",
    "    monthly_salary = net_annual_income / 12\n",
    "\n",
    "    return annual_income, tax_deduction, monthly_salary, tax_rate_type\n",
    "\n",
    "# Main function to input income and display results\n",
    "def main():\n",
    "    # Input the gross annual income\n",
    "    annual_income = float(input(\"Please enter your income: \"))\n",
    "\n",
    "    # Calculate the tax deduction and monthly salary\n",
    "    gross_income, tax_deduction, monthly_salary, tax_rate_type = calculate_tax_and_salary(annual_income)\n",
    "\n",
    "    # Display the results with 2 decimal places\n",
    "    if tax_rate_type == \"not taxable\":\n",
    "        print(f\"Your annual income of £{gross_income:.1f} is not taxable.\")\n",
    "    else:\n",
    "        print(f\"Your gross annual tax is calculated based on a **{tax_rate_type}** at income of £{gross_income:.1f} as: £{tax_deduction:.1f}\")\n",
    "    \n",
    "    print(f\"Your take home monthly salary is: £{monthly_salary:.2f}\")\n",
    "\n",
    "# Run the main function\n",
    "if __name__ == \"__main__\":\n",
    "    main()\n"
   ]
  },
  {
   "cell_type": "code",
   "execution_count": null,
   "id": "add44878-c281-490e-99b2-b186dd94baf7",
   "metadata": {},
   "outputs": [],
   "source": []
  },
  {
   "cell_type": "code",
   "execution_count": null,
   "id": "9599cfee-da00-4d57-87b6-e2a0eeeae293",
   "metadata": {},
   "outputs": [],
   "source": [
    "# Exercise 2"
   ]
  },
  {
   "cell_type": "code",
   "execution_count": 7,
   "id": "df5e0965-e4d4-479c-927b-6dce1a5e97cf",
   "metadata": {},
   "outputs": [
    {
     "name": "stdin",
     "output_type": "stream",
     "text": [
      "How many exam grades does each student have?  2\n",
      "Enter student ID:  2\n",
      "Exam Grade 1:  2\n",
      "Exam Grade 2:  2\n"
     ]
    },
    {
     "name": "stdout",
     "output_type": "stream",
     "text": [
      "The student with ID: 2 has an average grade of 2.00\n"
     ]
    },
    {
     "name": "stdin",
     "output_type": "stream",
     "text": [
      "Enter exam grades for another student (Y/N)?  n\n"
     ]
    }
   ],
   "source": [
    "def calculate_average_grades():\n",
    "    # 输入学生考试成绩的数量\n",
    "    num_grades = int(input(\"How many exam grades does each student have? \"))\n",
    "    \n",
    "    while True:\n",
    "        # 输入学生的 ID\n",
    "        student_id = input(\"Enter student ID: \")\n",
    "\n",
    "        # 初始化成绩列表\n",
    "        grades = []\n",
    "        \n",
    "        # 使用 for 循环输入每门课的成绩\n",
    "        for i in range(num_grades):\n",
    "            grade = float(input(f\"Exam Grade {i+1}: \"))\n",
    "            grades.append(grade)\n",
    "        \n",
    "        # 计算平均成绩\n",
    "        average_grade = sum(grades) / num_grades\n",
    "        print(f\"The student with ID: {student_id} has an average grade of {average_grade:.2f}\")\n",
    "\n",
    "        # 询问是否继续输入另一个学生的成绩\n",
    "        another_student = input(\"Enter exam grades for another student (Y/N)? \").strip().upper()\n",
    "        \n",
    "        # 如果输入 'N' 或 'n'，终止程序\n",
    "        if another_student == 'N':\n",
    "            break\n",
    "\n",
    "# 运行主函数\n",
    "if __name__ == \"__main__\":\n",
    "    calculate_average_grades()\n"
   ]
  },
  {
   "cell_type": "code",
   "execution_count": null,
   "id": "f221ac05-8ba8-4afe-9e5b-0f877467a6d9",
   "metadata": {},
   "outputs": [],
   "source": []
  },
  {
   "cell_type": "code",
   "execution_count": null,
   "id": "e5d35fb3-db86-4a2e-8fc7-cc0787a2f696",
   "metadata": {},
   "outputs": [],
   "source": [
    "# Exercise 3"
   ]
  },
  {
   "cell_type": "code",
   "execution_count": null,
   "id": "fa88d731-e964-4b47-b1c6-46209a40814f",
   "metadata": {},
   "outputs": [],
   "source": [
    "def grade_computation():\n",
    "    # 初始化变量\n",
    "    grades = []\n",
    "    passing_count = 0\n",
    "    failing_count = 0\n",
    "    pass_mark = 40\n",
    "    \n",
    "    # 连续输入成绩\n",
    "    while True:\n",
    "        grade = float(input(\"Enter a grade or -1 to finish: \"))\n",
    "        \n",
    "        # 当用户输入 -1 时，退出循环\n",
    "        if grade == -1:\n",
    "            break\n",
    "        \n",
    "        # 将成绩加入列表\n",
    "        grades.append(grade)\n",
    "        \n",
    "        # 统计通过和未通过的成绩\n",
    "        if grade >= pass_mark:\n",
    "            passing_count += 1\n",
    "        else:\n",
    "            failing_count += 1\n",
    "    \n",
    "    # 计算平均成绩、最高分和最低分\n",
    "    if grades:  # 确保有成绩输入\n",
    "        average_grade = sum(grades) / len(grades)\n",
    "        max_grade = max(grades)\n",
    "        min_grade = min(grades)\n",
    "    else:\n",
    "        average_grade = max_grade = min_grade = 0\n",
    "    \n",
    "    # 显示结果\n",
    "    print(f\"The average grade is: {average_grade:.2f}\")\n",
    "    print(f\"Number of passing grades is: {passing_count}\")\n",
    "    print(f\"Number of failing grades is: {failing_count}\")\n",
    "    print(f\"The maximum grade is: {max_grade:.2f}\")\n",
    "    print(f\"The minimum grade is: {min_grade:.2f}\")\n",
    "    \n",
    "    # 根据通过和未通过的数量显示提示\n",
    "    if passing_count > failing_count:\n",
    "        print(\"Remark: Congratulations! Proceed to the next level.\")\n",
    "    elif passing_count < failing_count:\n",
    "        print(\"Remark: You will need to perform better.\")\n",
    "    else:\n",
    "        print(\"Remark: You are in-between passing and failing!\\nYou would need to study more!\")\n",
    "\n",
    "# 运行程序\n",
    "if __name__ == \"__main__\":\n",
    "    grade_computation()\n"
   ]
  },
  {
   "cell_type": "code",
   "execution_count": null,
   "id": "94eba1e3-8ec6-4e77-bdd0-ac96408d931c",
   "metadata": {},
   "outputs": [],
   "source": []
  },
  {
   "cell_type": "code",
   "execution_count": null,
   "id": "cf4499b0-53fe-4ced-a154-acae5d6d9e17",
   "metadata": {},
   "outputs": [],
   "source": [
    "# Exercise 4"
   ]
  },
  {
   "cell_type": "code",
   "execution_count": null,
   "id": "fddfbb25-31a0-4b81-8095-be4c426cb66e",
   "metadata": {},
   "outputs": [],
   "source": [
    "def find_highest_temperature():\n",
    "    # 输入年份\n",
    "    year = input(\"Enter year: \")\n",
    "\n",
    "    # 初始化变量\n",
    "    highest_temp = float('-inf')\n",
    "    highest_month = 0\n",
    "\n",
    "    # 使用 for 循环输入每个月的温度\n",
    "    for month in range(1, 13):\n",
    "        temp = float(input(f\"Enter a temperature for Month[{month}]: \"))\n",
    "\n",
    "        # 检查当前月的温度是否为最高温度\n",
    "        if temp > highest_temp:\n",
    "            highest_temp = temp\n",
    "            highest_month = month\n",
    "\n",
    "    # 输出结果\n",
    "    print(f\"Month {highest_month} has the highest temperature for the year {year};\")\n",
    "\n",
    "# 运行主函数\n",
    "if __name__ == \"__main__\":\n",
    "    find_highest_temperature()\n"
   ]
  },
  {
   "cell_type": "code",
   "execution_count": null,
   "id": "b45acda3-b2b6-4399-a246-6f3a62b314b2",
   "metadata": {},
   "outputs": [],
   "source": []
  },
  {
   "cell_type": "code",
   "execution_count": null,
   "id": "19c4b112-db0e-44e6-aafe-f3808281ac3a",
   "metadata": {},
   "outputs": [],
   "source": [
    "# Exercise 5"
   ]
  },
  {
   "cell_type": "code",
   "execution_count": null,
   "id": "e3805052-9582-4967-8960-2c81fdb7a918",
   "metadata": {},
   "outputs": [],
   "source": [
    "my_dict = {'Alice': 85, 'Bob': 90, 'Charlie': 75}\n",
    "items = my_dict.items()\n",
    "print(items)  # 输出: dict_items([('Alice', 85), ('Bob', 90), ('Charlie', 75)])"
   ]
  },
  {
   "cell_type": "code",
   "execution_count": null,
   "id": "05498138-2078-4341-8667-97ef2e581d92",
   "metadata": {},
   "outputs": [],
   "source": [
    "my_dict = {'Alice': 85, 'Bob': 90, 'Charlie': 75}\n",
    "keys = my_dict.keys()\n",
    "print(keys)  # 输出: dict_keys(['Alice', 'Bob', 'Charlie'])"
   ]
  },
  {
   "cell_type": "code",
   "execution_count": null,
   "id": "339a9550-38b3-4a8b-bfeb-7fa963a65040",
   "metadata": {},
   "outputs": [],
   "source": [
    "my_dict = {'Alice': 85, 'Bob': 90, 'Charlie': 75}\n",
    "values = my_dict.values()\n",
    "print(values)  # 输出: dict_values([85, 90, 75])"
   ]
  },
  {
   "cell_type": "code",
   "execution_count": null,
   "id": "9e9e4788-912f-4ad9-bf91-ca4a9d702a64",
   "metadata": {},
   "outputs": [],
   "source": [
    "# Function to find the judge with the lowest score\n",
    "def lowScore(judges):\n",
    "    lowest_score = float('inf')\n",
    "    lowest_judge = \"\"\n",
    "    for judge, score in judges.items():\n",
    "        if score < lowest_score:\n",
    "            lowest_score = score\n",
    "            lowest_judge = judge\n",
    "    return lowest_judge, lowest_score\n",
    "\n",
    "# Function to find the judge with the highest score\n",
    "def highScore(judges):\n",
    "    highest_score = float('-inf')\n",
    "    highest_judge = \"\"\n",
    "    for judge, score in judges.items():\n",
    "        if score > highest_score:\n",
    "            highest_score = score\n",
    "            highest_judge = judge\n",
    "    return highest_judge, highest_score\n",
    "\n",
    "# Main function to handle input and output\n",
    "def main():\n",
    "    # Initialize the judges dictionary\n",
    "    judges = {}\n",
    "\n",
    "    # Input names and scores for 4 judges\n",
    "    for i in range(4):\n",
    "        name = input(f\"Enter the name of judge {i + 1}: \")\n",
    "        \n",
    "        # Ensure the score is between 1 and 10\n",
    "        while True:\n",
    "            score = float(input(f\"Enter the score for {name} (between 1 and 10): \"))\n",
    "            if 1 <= score <= 10:\n",
    "                break\n",
    "            else:\n",
    "                print(\"Please enter a valid score between 1 and 10.\")\n",
    "        \n",
    "        # Store the name and score in the dictionary\n",
    "        judges[name] = score\n",
    "\n",
    "    # Print all judges and their scores\n",
    "    print(\"\\nJudges and their scores:\")\n",
    "    for judge, score in judges.items():\n",
    "        print(f\"{judge}: {score}\")\n",
    "\n",
    "    # Display the number of judges, first judge, and last judge\n",
    "    judge_names = list(judges.keys())\n",
    "    print(f\"\\nNumber of judges: {len(judges)}\")\n",
    "    print(f\"The first judge is {judge_names[0]} with a score of {judges[judge_names[0]]}\")\n",
    "    print(f\"The last judge is {judge_names[-1]} with a score of {judges[judge_names[-1]]}\")\n",
    "\n",
    "    # Calculate total score\n",
    "    total_score = sum(judges.values())\n",
    "    print(f\"\\nThe total score is: {total_score}\")\n",
    "\n",
    "    # Find and display the judge with the lowest score\n",
    "    low_judge, low_score = lowScore(judges)\n",
    "    print(f\"\\nThe lowest score is {low_score}, given by judge {low_judge}\")\n",
    "\n",
    "    # Find and display the judge with the highest score\n",
    "    high_judge, high_score = highScore(judges)\n",
    "    print(f\"The highest score is {high_score}, given by judge {high_judge}\")\n",
    "\n",
    "# Run the main function\n",
    "if __name__ == \"__main__\":\n",
    "    main()\n"
   ]
  },
  {
   "cell_type": "code",
   "execution_count": null,
   "id": "88a817fa-2b28-4066-bce3-bc8d5712a42d",
   "metadata": {},
   "outputs": [],
   "source": []
  },
  {
   "cell_type": "code",
   "execution_count": null,
   "id": "4a788b3b-d355-41cf-a539-9d22de64d3d6",
   "metadata": {},
   "outputs": [],
   "source": [
    "# Exerice 5 Optional"
   ]
  },
  {
   "cell_type": "code",
   "execution_count": 15,
   "id": "5369b265-83a6-4161-b709-2e5961c3efff",
   "metadata": {},
   "outputs": [
    {
     "name": "stdout",
     "output_type": "stream",
     "text": [
      "Welcome to strictly come dancing :)\n",
      "\n",
      "*** The results are in ***\n",
      "\n"
     ]
    },
    {
     "name": "stdin",
     "output_type": "stream",
     "text": [
      "Enter name of judge 1:  2\n",
      "Enter score for 2 (between 1 and 10):  2\n"
     ]
    },
    {
     "name": "stdout",
     "output_type": "stream",
     "text": [
      "Score is less than 5. Setting score to 5 for 2.\n"
     ]
    },
    {
     "name": "stdin",
     "output_type": "stream",
     "text": [
      "Enter name of judge 2:  3\n",
      "Enter score for 3 (between 1 and 10):  3\n"
     ]
    },
    {
     "name": "stdout",
     "output_type": "stream",
     "text": [
      "Score is less than 5. Setting score to 5 for 3.\n"
     ]
    },
    {
     "name": "stdin",
     "output_type": "stream",
     "text": [
      "Enter name of judge 3:  4\n",
      "Enter score for 4 (between 1 and 10):  4\n"
     ]
    },
    {
     "name": "stdout",
     "output_type": "stream",
     "text": [
      "Score is less than 5. Setting score to 5 for 4.\n"
     ]
    },
    {
     "name": "stdin",
     "output_type": "stream",
     "text": [
      "Enter name of judge 4:  5\n",
      "Enter score for 5 (between 1 and 10):  5\n"
     ]
    },
    {
     "name": "stdout",
     "output_type": "stream",
     "text": [
      "\n",
      " {'2': 5, '3': 5, '4': 5, '5': 5.0}\n",
      "\n",
      "There are 4 judges.\n",
      "The first judge, 2, gave: 5\n",
      "The final judge, 5, gave: 5.0\n",
      "\n",
      "The total score is: 20.0\n",
      "\n",
      "The lowest score is 5\n",
      "The judge with the lowest score is: 2\n",
      "\n",
      "The highest score is 5\n",
      "The judge with the highest score is: 2\n"
     ]
    }
   ],
   "source": [
    "# Function to find the judge with the lowest score\n",
    "def lowScore(judges):\n",
    "    lowest_score = float('inf')\n",
    "    lowest_judge = \"\"\n",
    "    for judge, score in judges.items():\n",
    "        if score < lowest_score:\n",
    "            lowest_score = score\n",
    "            lowest_judge = judge\n",
    "    return lowest_judge, lowest_score\n",
    "\n",
    "# Function to find the judge with the highest score\n",
    "def highScore(judges):\n",
    "    highest_score = float('-inf')\n",
    "    highest_judge = \"\"\n",
    "    for judge, score in judges.items():\n",
    "        if score > highest_score:\n",
    "            highest_score = score\n",
    "            highest_judge = judge\n",
    "    return highest_judge, highest_score\n",
    "\n",
    "# Main function to handle input and output\n",
    "def main():\n",
    "    print(\"Welcome to strictly come dancing :)\")\n",
    "    print(\"\\n*** The results are in ***\\n\")\n",
    "    \n",
    "    # Initialize the judges dictionary\n",
    "    judges = {}\n",
    "\n",
    "    # Input names and scores for 4 judges\n",
    "    for i in range(4):\n",
    "        name = input(f\"Enter name of judge {i + 1}: \")\n",
    "        \n",
    "        # Ensure the score is between 1 and 10 and convert scores less than 5 to 5\n",
    "        while True:\n",
    "            score = float(input(f\"Enter score for {name} (between 1 and 10): \"))\n",
    "            if 1 <= score <= 10:\n",
    "                if score < 5:\n",
    "                    print(f\"Score is less than 5. Setting score to 5 for {name}.\")\n",
    "                    score = 5\n",
    "                break\n",
    "            else:\n",
    "                print(\"Please enter a valid score between 1 and 10.\")\n",
    "        \n",
    "        # Store the name and score in the dictionary\n",
    "        judges[name] = score\n",
    "\n",
    "    # Print all judges and their scores\n",
    "    print(\"\\n\", judges)\n",
    "\n",
    "    # Display the number of judges, first judge, and last judge\n",
    "    judge_names = list(judges.keys())\n",
    "    print(f\"\\nThere are {len(judges)} judges.\")\n",
    "    print(f\"The first judge, {judge_names[0]}, gave: {judges[judge_names[0]]}\")\n",
    "    print(f\"The final judge, {judge_names[-1]}, gave: {judges[judge_names[-1]]}\")\n",
    "\n",
    "    # Calculate total score\n",
    "    total_score = sum(judges.values())\n",
    "    print(f\"\\nThe total score is: {total_score}\")\n",
    "\n",
    "    # Find and display the judge with the lowest score\n",
    "    low_judge, low_score = lowScore(judges)\n",
    "    print(f\"\\nThe lowest score is {low_score}\")\n",
    "    print(f\"The judge with the lowest score is: {low_judge}\")\n",
    "\n",
    "    # Find and display the judge with the highest score\n",
    "    high_judge, high_score = highScore(judges)\n",
    "    print(f\"\\nThe highest score is {high_score}\")\n",
    "    print(f\"The judge with the highest score is: {high_judge}\")\n",
    "\n",
    "# Run the main function\n",
    "if __name__ == \"__main__\":\n",
    "    main()\n"
   ]
  },
  {
   "cell_type": "code",
   "execution_count": null,
   "id": "bca9fcac-e960-4f3b-8335-211cfd3ff247",
   "metadata": {},
   "outputs": [],
   "source": []
  }
 ],
 "metadata": {
  "kernelspec": {
   "display_name": "Python 3 (ipykernel)",
   "language": "python",
   "name": "python3"
  },
  "language_info": {
   "codemirror_mode": {
    "name": "ipython",
    "version": 3
   },
   "file_extension": ".py",
   "mimetype": "text/x-python",
   "name": "python",
   "nbconvert_exporter": "python",
   "pygments_lexer": "ipython3",
   "version": "3.12.4"
  }
 },
 "nbformat": 4,
 "nbformat_minor": 5
}
